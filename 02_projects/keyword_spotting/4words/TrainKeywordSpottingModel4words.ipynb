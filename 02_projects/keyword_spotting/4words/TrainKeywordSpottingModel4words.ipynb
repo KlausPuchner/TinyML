{
 "cells": [
  {
   "cell_type": "markdown",
   "metadata": {
    "id": "pO4-CY_TCZZS"
   },
   "source": [
    "# Training Keyword Spotting\n",
    "This notebook builds on the Colab in which we used the pre-trained [micro_speech](https://github.com/tensorflow/tensorflow/tree/master/tensorflow/lite/micro/examples/micro_speech) example as well as the HarvardX [3_5_18_TrainingKeywordSpotting.ipynb](https://github.com/tinyMLx/colabs) and [4_5_16_KWS_PretrainedModel](https://github.com/tinyMLx/colabs) from the [TinyML Specialization on edX](https://www.edx.org/professional-certificate/harvardx-tiny-machine-learning).\n",
    "\n",
    "\n"
   ]
  },
  {
   "cell_type": "markdown",
   "metadata": {
    "id": "y0HQ7WkLUxD4"
   },
   "source": [
    "# Setup\n",
    "<font color='red'>**This Notebook only works on Tensorflow 1.15 and was tested with Tensorflow 1.15.5**</font>"
   ]
  },
  {
   "cell_type": "markdown",
   "metadata": {
    "id": "gtAfqQ9MGSiX"
   },
   "source": [
    "### Prerequisites\n",
    "Clone the TensorFlow Github Repository with the relevant base code."
   ]
  },
  {
   "cell_type": "code",
   "execution_count": null,
   "metadata": {},
   "outputs": [],
   "source": [
    "%%bash\n",
    "rm -rf tensorflow log  v2.4.1.zip logs models train dataset extract_loudest_section\n",
    "apt-get update -qq && apt-get install -y wget unzip\n",
    "wget https://github.com/tensorflow/tensorflow/archive/v2.4.1.zip\n",
    "unzip v2.4.1.zip &> log\n",
    "mv tensorflow-2.4.1/ tensorflow/\n",
    "rm -rf v2.4.1.zip log"
   ]
  },
  {
   "cell_type": "markdown",
   "metadata": {},
   "source": [
    "### Import Packages\n",
    "Import standard packages as well as the additional packages from the cloned Github Repo."
   ]
  },
  {
   "cell_type": "code",
   "execution_count": null,
   "metadata": {
    "colab": {
     "base_uri": "https://localhost:8080/"
    },
    "id": "olCcGuF7GRVO",
    "outputId": "561933a5-0643-4ee2-d859-d352e0dc22ef"
   },
   "outputs": [],
   "source": [
    "import tensorflow as tf\n",
    "import sys\n",
    "# We add this path so we can import the speech processing modules.\n",
    "sys.path.append(\"./tensorflow/tensorflow/examples/speech_commands/\")\n",
    "import input_data\n",
    "import models\n",
    "import numpy as np\n",
    "import pickle\n",
    "import shutil\n",
    "import os"
   ]
  },
  {
   "cell_type": "markdown",
   "metadata": {},
   "source": [
    "### Check GPU availability\n",
    "The code will also work without GPU acceleration, but it will be significantly slower."
   ]
  },
  {
   "cell_type": "code",
   "execution_count": null,
   "metadata": {},
   "outputs": [],
   "source": [
    "tf.test.is_gpu_available(cuda_only=True, min_cuda_compute_capability=None)"
   ]
  },
  {
   "cell_type": "markdown",
   "metadata": {
    "id": "XaVtYN4nlCft"
   },
   "source": [
    "### Configure Your Model!\n",
    "Select your keywords and model settings with which to train!\n",
    "\n",
    "**This is where you need to make choices and input data!**\n",
    "\n",
    "```WANTED_WORDS``` = A comma-delimited string of the words you want to train for (e.g., \"yes,no\"). All the other words you do not select will be used to train an \"unknown\" label so that the model does not just recognize speech but your specific words. Audio data with no spoken words will be used to train a \"silence\" label. We suggest picking 2-4 words for best results.\n",
    "\n",
    "Options for target words are (PICK FROM THIS LIST FOR BEST RESULTS): \"one\", \"two\", \"three\", \"four\", \"five\", \"six\", \"seven\", \"eight\", \"nine\",  \"yes\", \"no\", \"up\", \"down\", \"left\", \"right\", \"on\", \"off\", \"stop\", \"go\", “backward”, “forward”, “follow”, “learn”,\n",
    "\n",
    "Additional words that will be used to help train the \"unkown\" label are: \"bed\", \"bird\", \"cat\", \"dog\", \"happy\", \"house\", \"marvin\", \"sheila\", \"tree\", \"wow\""
   ]
  },
  {
   "cell_type": "code",
   "execution_count": null,
   "metadata": {
    "id": "ludfxbNIaegy"
   },
   "outputs": [],
   "source": [
    "WANTED_WORDS = \"go,stop,left,right\""
   ]
  },
  {
   "cell_type": "markdown",
   "metadata": {
    "id": "P8VBOW8Ob7ys"
   },
   "source": [
    "The number of training steps and learning rates can be specified as comma-separated strings to define the amount/rate at each stage. For example, ```TRAINING_STEPS=\"12000,3000\"``` and ```LEARNING_RATE=\"0.001,0.0001\"``` will run 12,000 training steps with a rate of 0.001 followed by 3,000 final steps with a learning rate of 0.0001. These are good default values to work off of when you choose your values as the course staff has gotten this to work well with those values in the past!"
   ]
  },
  {
   "cell_type": "code",
   "execution_count": null,
   "metadata": {
    "id": "m1eWOvdfcPlo"
   },
   "outputs": [],
   "source": [
    "TRAINING_STEPS = \"12000,3000\"\n",
    "LEARNING_RATE = \"0.001,0.0001\""
   ]
  },
  {
   "cell_type": "markdown",
   "metadata": {
    "id": "0q36xx9vcQVp"
   },
   "source": [
    "We suggest you leave the ```MODEL_ARCHITECTURE``` as tiny_conv the first time but if you would like to do this again and explore additional models some options are: ```single_fc, conv, low_latency_conv, low_latency_svdf, tiny_embedding_conv```"
   ]
  },
  {
   "cell_type": "code",
   "execution_count": null,
   "metadata": {
    "id": "V3Y1phllccMn"
   },
   "outputs": [],
   "source": [
    "MODEL_ARCHITECTURE = 'tiny_conv'"
   ]
  },
  {
   "cell_type": "code",
   "execution_count": null,
   "metadata": {
    "colab": {
     "base_uri": "https://localhost:8080/"
    },
    "id": "vhj3jQr0cfCt",
    "outputId": "2bb1dad0-e9ab-46a7-c294-296b4a81aaae"
   },
   "outputs": [],
   "source": [
    "# Calculate the total number of steps, which is used to identify the checkpoint\n",
    "# file name.\n",
    "TOTAL_STEPS = str(sum(map(lambda string: int(string), TRAINING_STEPS.split(\",\"))))\n",
    "\n",
    "# Print the configuration to confirm it\n",
    "print(\"Training these words: %s\" % WANTED_WORDS)\n",
    "print(\"Training steps in each stage: %s\" % TRAINING_STEPS)\n",
    "print(\"Learning rate in each stage: %s\" % LEARNING_RATE)\n",
    "print(\"Total number of training steps: %s\" % TOTAL_STEPS)"
   ]
  },
  {
   "cell_type": "markdown",
   "metadata": {
    "id": "gCgeOpvY9pAi"
   },
   "source": [
    "**DO NOT MODIFY** the following constants as they include filepaths used in this notebook and data that is shared during training and inference."
   ]
  },
  {
   "cell_type": "code",
   "execution_count": null,
   "metadata": {
    "id": "Nd1iM1o2ymvA"
   },
   "outputs": [],
   "source": [
    "# Calculate the percentage of 'silence' and 'unknown' training samples required\n",
    "# to ensure that we have equal number of samples for each label.\n",
    "number_of_labels = WANTED_WORDS.count(',') + 1\n",
    "number_of_total_labels = number_of_labels + 2 # for 'silence' and 'unknown' label\n",
    "equal_percentage_of_training_samples = int(100.0/(number_of_total_labels))\n",
    "SILENT_PERCENTAGE = equal_percentage_of_training_samples\n",
    "UNKNOWN_PERCENTAGE = equal_percentage_of_training_samples\n",
    "\n",
    "# Constants which are shared during training and inference\n",
    "PREPROCESS = 'micro'\n",
    "WINDOW_STRIDE = 20\n",
    "\n",
    "# Constants used during training only\n",
    "VERBOSITY = 'DEBUG'\n",
    "EVAL_STEP_INTERVAL = '1000'\n",
    "SAVE_STEP_INTERVAL = '1000'\n",
    "\n",
    "# Constants for training directories and filepaths\n",
    "DATASET_DIR =  'dataset/'\n",
    "LOGS_DIR = 'logs/'\n",
    "TRAIN_DIR = 'train/' # for training checkpoints and other files.\n",
    "\n",
    "# Constants for inference directories and filepaths\n",
    "import os\n",
    "MODELS_DIR = 'models'\n",
    "if not os.path.exists(MODELS_DIR):\n",
    "  os.mkdir(MODELS_DIR)\n",
    "MODEL_TF = os.path.join(MODELS_DIR, 'model.pb')\n",
    "MODEL_TFLITE = os.path.join(MODELS_DIR, 'model.tflite')\n",
    "FLOAT_MODEL_TFLITE = os.path.join(MODELS_DIR, 'float_model.tflite')\n",
    "MODEL_TFLITE_MICRO = os.path.join(MODELS_DIR, 'model.cc')\n",
    "SAVED_MODEL = os.path.join(MODELS_DIR, 'saved_model')\n",
    "\n",
    "# Constants for Quantization\n",
    "QUANT_INPUT_MIN = 0.0\n",
    "QUANT_INPUT_MAX = 26.0\n",
    "QUANT_INPUT_RANGE = QUANT_INPUT_MAX - QUANT_INPUT_MIN\n",
    "\n",
    "# Constants for audio process during Quantization and Evaluation\n",
    "SAMPLE_RATE = 16000\n",
    "CLIP_DURATION_MS = 1000\n",
    "WINDOW_SIZE_MS = 30.0\n",
    "FEATURE_BIN_COUNT = 40\n",
    "BACKGROUND_FREQUENCY = 0.8\n",
    "BACKGROUND_VOLUME_RANGE = 0.1\n",
    "TIME_SHIFT_MS = 100.0\n",
    "\n",
    "# URL for the dataset and train/val/test split\n",
    "DATA_URL = 'https://storage.googleapis.com/download.tensorflow.org/data/speech_commands_v0.02.tar.gz'\n",
    "VALIDATION_PERCENTAGE = 10\n",
    "TESTING_PERCENTAGE = 10"
   ]
  },
  {
   "cell_type": "code",
   "execution_count": null,
   "metadata": {
    "id": "NsfGEcuUa9-Y"
   },
   "outputs": [],
   "source": [
    "# Calculate the correct flattened input data shape for later use in model conversion\n",
    "# since the model takes a flattened version of the spectrogram. The shape is number of \n",
    "# overlapping windows times the number of frequency bins. For the default settings we have\n",
    "# 40 bins (as set above) times 49 windows (as calculated below) so the shape is (1,1960)\n",
    "def window_counter(total_samples, window_size, stride):\n",
    "  '''helper function to count the number of full-length overlapping windows'''\n",
    "  window_count = 0\n",
    "  sample_index = 0\n",
    "  while True:\n",
    "    window = range(sample_index,sample_index+stride)\n",
    "    if window.stop < total_samples:\n",
    "      window_count += 1\n",
    "    else:\n",
    "      break\n",
    "    \n",
    "    sample_index += stride\n",
    "  return window_count\n",
    "\n",
    "OVERLAPPING_WINDOWS = window_counter(CLIP_DURATION_MS, int(WINDOW_SIZE_MS), WINDOW_STRIDE)\n",
    "FLATTENED_SPECTROGRAM_SHAPE = (1, OVERLAPPING_WINDOWS * FEATURE_BIN_COUNT)"
   ]
  },
  {
   "cell_type": "markdown",
   "metadata": {
    "id": "UczQKtqLi7OJ"
   },
   "source": [
    "# Train the model"
   ]
  },
  {
   "cell_type": "markdown",
   "metadata": {
    "id": "0gSank0ZVBK2"
   },
   "source": [
    "### Load in TensorBoard to visulaize the training process.\n",
    "\n",
    "As training progresses you should see the training status show up in the Tensorboard area. If this works it is very helpful for analyzing your training progress. Unfortunately, the staff has found that it sometimes doesn't start showing data for a while (~15 minutes) and sometimes doesn't show data until training completes (and instead shows ```No dashboards are active for the current data set```.). If it is working and then stops updating look to the top of the cell and click reconnect."
   ]
  },
  {
   "cell_type": "code",
   "execution_count": null,
   "metadata": {
    "colab": {
     "base_uri": "https://localhost:8080/",
     "height": 17
    },
    "id": "ozkJqgSkU_qI",
    "outputId": "a1bde346-1a7f-41e7-9394-c2afd963f2f3"
   },
   "outputs": [],
   "source": [
    "%load_ext tensorboard\n",
    "logs_base_dir='./logs/'\n",
    "os.makedirs(logs_base_dir, exist_ok=True)\n",
    "%tensorboard --logdir {logs_base_dir} --host 0.0.0.0 --port 6006"
   ]
  },
  {
   "cell_type": "markdown",
   "metadata": {
    "id": "gweRC9eWVdg2"
   },
   "source": [
    "### Launch Training\n",
    "\n",
    "If you would like to get more information on the training script you can find the source code for the script [here](https://github.com/tensorflow/tensorflow/blob/master/tensorflow/examples/speech_commands/train.py). In short it sets up the optimizer and preprocessor based on all of the flags we pass in!\n",
    "\n",
    "Finally, by setting the ```VERBOSITY = 'DEBUG'``` above be aware that the training cell will print A LOT of information. Specifically you will get the accuracy and loss at each step as well as a confusion matrix every 1000 steps. We hope that is helpful in case TensorBoard fails to work. If you would like to run with less printouts you can change the setting to ```WARN``` or ```FATAL```. You will find this in the \"Configure Your Model!\" section."
   ]
  },
  {
   "cell_type": "code",
   "execution_count": null,
   "metadata": {
    "colab": {
     "base_uri": "https://localhost:8080/"
    },
    "id": "RZw3VNlnla-J",
    "outputId": "3fa4e72e-94d6-475e-f208-6133a5ae4952"
   },
   "outputs": [],
   "source": [
    "!python tensorflow/tensorflow/examples/speech_commands/train.py \\\n",
    "--data_dir={DATASET_DIR} \\\n",
    "--wanted_words={WANTED_WORDS} \\\n",
    "--silence_percentage={SILENT_PERCENTAGE} \\\n",
    "--unknown_percentage={UNKNOWN_PERCENTAGE} \\\n",
    "--preprocess={PREPROCESS} \\\n",
    "--window_stride={WINDOW_STRIDE} \\\n",
    "--model_architecture={MODEL_ARCHITECTURE} \\\n",
    "--how_many_training_steps={TRAINING_STEPS} \\\n",
    "--learning_rate={LEARNING_RATE} \\\n",
    "--train_dir={TRAIN_DIR} \\\n",
    "--summaries_dir={LOGS_DIR} \\\n",
    "--verbosity={VERBOSITY} \\\n",
    "--eval_step_interval={EVAL_STEP_INTERVAL} \\\n",
    "--save_step_interval={SAVE_STEP_INTERVAL}"
   ]
  },
  {
   "cell_type": "markdown",
   "metadata": {
    "id": "pjBn-NapWsho"
   },
   "source": [
    "# Generating your Model\n",
    "Just like with the pre-trained model we will now take the final checkpoint and convert it into a quantized TensorFlow Lite model."
   ]
  },
  {
   "cell_type": "markdown",
   "metadata": {
    "id": "XQUJLrdS-ftl"
   },
   "source": [
    "### Generate a TensorFlow Model for Inference\n",
    "\n",
    "Combine relevant training results (graph, weights, etc) into a single file for inference. This process is known as freezing a model and the resulting model is known as a frozen model/graph, as it cannot be further re-trained after this process."
   ]
  },
  {
   "cell_type": "code",
   "execution_count": null,
   "metadata": {
    "colab": {
     "base_uri": "https://localhost:8080/"
    },
    "id": "xyc3_eLh9sAg",
    "outputId": "44de47e3-cc64-495c-8660-ad6b204d552f"
   },
   "outputs": [],
   "source": [
    "!rm -rf {SAVED_MODEL}\n",
    "!python tensorflow/tensorflow/examples/speech_commands/freeze.py \\\n",
    "--wanted_words=$WANTED_WORDS \\\n",
    "--window_stride_ms=$WINDOW_STRIDE \\\n",
    "--preprocess=$PREPROCESS \\\n",
    "--model_architecture=$MODEL_ARCHITECTURE \\\n",
    "--start_checkpoint=$TRAIN_DIR$MODEL_ARCHITECTURE'.ckpt-'{TOTAL_STEPS} \\\n",
    "--save_format=saved_model \\\n",
    "--output_file={SAVED_MODEL}"
   ]
  },
  {
   "cell_type": "markdown",
   "metadata": {
    "id": "_DBGDxVI-nKG"
   },
   "source": [
    "### Generate a TensorFlow Lite Model\n",
    "\n",
    "Convert the frozen graph into a TensorFlow Lite model, which is fully quantized for use with embedded devices.\n",
    "\n",
    "The following cell will also print the model size, which will be under 20 kilobytes.\n",
    "\n",
    "We download the dataset to use as a representative dataset for more thoughtful post training quantization. "
   ]
  },
  {
   "cell_type": "code",
   "execution_count": null,
   "metadata": {
    "id": "rNQdAplJV1fz"
   },
   "outputs": [],
   "source": [
    "model_settings = models.prepare_model_settings(\n",
    "    len(input_data.prepare_words_list(WANTED_WORDS.split(','))),\n",
    "    SAMPLE_RATE, CLIP_DURATION_MS, WINDOW_SIZE_MS,\n",
    "    WINDOW_STRIDE, FEATURE_BIN_COUNT, PREPROCESS)\n",
    "audio_processor = input_data.AudioProcessor(\n",
    "    DATA_URL, DATASET_DIR,\n",
    "    SILENT_PERCENTAGE, UNKNOWN_PERCENTAGE,\n",
    "    WANTED_WORDS.split(','), VALIDATION_PERCENTAGE,\n",
    "    TESTING_PERCENTAGE, model_settings, LOGS_DIR)"
   ]
  },
  {
   "cell_type": "code",
   "execution_count": null,
   "metadata": {
    "colab": {
     "base_uri": "https://localhost:8080/"
    },
    "id": "lBj_AyCh1cC0",
    "outputId": "965ab90a-5c79-432a-be23-063756d8b050"
   },
   "outputs": [],
   "source": [
    "with tf.Session() as sess:\n",
    "  float_converter = tf.lite.TFLiteConverter.from_saved_model(SAVED_MODEL)\n",
    "  float_tflite_model = float_converter.convert()\n",
    "  float_tflite_model_size = open(FLOAT_MODEL_TFLITE, \"wb\").write(float_tflite_model)\n",
    "  print(\"Float model is %d bytes\" % float_tflite_model_size)\n",
    "\n",
    "  converter = tf.lite.TFLiteConverter.from_saved_model(SAVED_MODEL)\n",
    "  converter.optimizations = [tf.lite.Optimize.DEFAULT]\n",
    "  converter.inference_input_type = tf.lite.constants.INT8\n",
    "  converter.inference_output_type = tf.lite.constants.INT8\n",
    "  def representative_dataset_gen():\n",
    "    for i in range(100):\n",
    "      data, _ = audio_processor.get_data(1, i*1, model_settings,\n",
    "                                         BACKGROUND_FREQUENCY, \n",
    "                                         BACKGROUND_VOLUME_RANGE,\n",
    "                                         TIME_SHIFT_MS,\n",
    "                                         'testing',\n",
    "                                         sess)\n",
    "      flattened_data = np.array(data.flatten(), dtype=np.float32).reshape(FLATTENED_SPECTROGRAM_SHAPE)\n",
    "      yield [flattened_data]\n",
    "  converter.representative_dataset = representative_dataset_gen\n",
    "  tflite_model = converter.convert()\n",
    "  tflite_model_size = open(MODEL_TFLITE, \"wb\").write(tflite_model)\n",
    "  print(\"Quantized model is %d bytes\" % tflite_model_size)\n"
   ]
  },
  {
   "cell_type": "markdown",
   "metadata": {
    "id": "EeLiDZTbLkzv"
   },
   "source": [
    "### Testing the accuracy after Quantization\n",
    "\n",
    "Verify that the model we've exported is still accurate, using the TF Lite Python API and our test set."
   ]
  },
  {
   "cell_type": "code",
   "execution_count": null,
   "metadata": {
    "id": "wQsEteKRLryJ"
   },
   "outputs": [],
   "source": [
    "# Helper function to run inference\n",
    "def run_tflite_inference_testSet(tflite_model_path, model_type=\"Float\"):\n",
    "  #\n",
    "  # Load test data\n",
    "  #\n",
    "  np.random.seed(0) # set random seed for reproducible test results.\n",
    "  with tf.Session() as sess:\n",
    "    test_data, test_labels = audio_processor.get_data(\n",
    "        -1, 0, model_settings, BACKGROUND_FREQUENCY, BACKGROUND_VOLUME_RANGE,\n",
    "        TIME_SHIFT_MS, 'testing', sess)\n",
    "  test_data = np.expand_dims(test_data, axis=1).astype(np.float32)\n",
    "\n",
    "  #\n",
    "  # Initialize the interpreter\n",
    "  #\n",
    "  interpreter = tf.lite.Interpreter(tflite_model_path)\n",
    "  interpreter.allocate_tensors()\n",
    "  input_details = interpreter.get_input_details()[0]\n",
    "  output_details = interpreter.get_output_details()[0]\n",
    "  \n",
    "  #\n",
    "  # For quantized models, manually quantize the input data from float to integer\n",
    "  #\n",
    "  if model_type == \"Quantized\":\n",
    "    input_scale, input_zero_point = input_details[\"quantization\"]\n",
    "    test_data = test_data / input_scale + input_zero_point\n",
    "    test_data = test_data.astype(input_details[\"dtype\"])\n",
    "\n",
    "  #\n",
    "  # Evaluate the predictions\n",
    "  #\n",
    "  correct_predictions = 0\n",
    "  for i in range(len(test_data)):\n",
    "    interpreter.set_tensor(input_details[\"index\"], test_data[i])\n",
    "    interpreter.invoke()\n",
    "    output = interpreter.get_tensor(output_details[\"index\"])[0]\n",
    "    top_prediction = output.argmax()\n",
    "    correct_predictions += (top_prediction == test_labels[i])\n",
    "\n",
    "  print('%s model accuracy is %f%% (Number of test samples=%d)' % (\n",
    "      model_type, (correct_predictions * 100) / len(test_data), len(test_data)))"
   ]
  },
  {
   "cell_type": "code",
   "execution_count": null,
   "metadata": {
    "colab": {
     "base_uri": "https://localhost:8080/"
    },
    "id": "l-pD52Na6jRa",
    "outputId": "8cc2b91f-3546-4b39-c9f2-965455d86ca2"
   },
   "outputs": [],
   "source": [
    "# Compute float model accuracy\n",
    "run_tflite_inference_testSet(FLOAT_MODEL_TFLITE)\n",
    "\n",
    "# Compute quantized model accuracy\n",
    "run_tflite_inference_testSet(MODEL_TFLITE, model_type='Quantized')"
   ]
  },
  {
   "cell_type": "markdown",
   "metadata": {
    "id": "uDdZHRuFLPdH"
   },
   "source": [
    "# Testing the model with your own data!\n",
    "Now comes the fun part. It's time to test your model with your own realworld data. We'll proceed in the same way we tested the pre-trained model. Have fun!"
   ]
  },
  {
   "cell_type": "markdown",
   "metadata": {
    "id": "2VrEGTt5Pt1e"
   },
   "source": [
    "### Importing packages"
   ]
  },
  {
   "cell_type": "code",
   "execution_count": null,
   "metadata": {
    "colab": {
     "base_uri": "https://localhost:8080/"
    },
    "id": "IoTsiK2Xtf3s",
    "outputId": "004fcd9d-a96f-4bcd-bf42-ce46b85371ca"
   },
   "outputs": [],
   "source": [
    "!apt-get update -qqq && apt-get -y -qqq install apt-utils gcc libpq-dev libsndfile-dev git\n",
    "!python3 -m pip install --upgrade --no-cache-dir --quiet pip ffmpeg-python scipy librosa google-colab\n",
    "from IPython.display import HTML, Audio\n",
    "from google.colab.output import eval_js\n",
    "from base64 import b64decode\n",
    "import numpy as np\n",
    "from scipy.io.wavfile import read as wav_read\n",
    "import io\n",
    "import ffmpeg\n",
    "#!pip install librosa\n",
    "import librosa\n",
    "import scipy.io.wavfile\n",
    "!git clone https://github.com/petewarden/extract_loudest_section.git\n",
    "!make -C extract_loudest_section/\n",
    "print(\"Packages Imported, Extract_Loudest_Section Built\")"
   ]
  },
  {
   "cell_type": "markdown",
   "metadata": {
    "id": "ZKXSI_YJXUkw"
   },
   "source": [
    "### Define the helper function to run inference"
   ]
  },
  {
   "cell_type": "code",
   "execution_count": null,
   "metadata": {
    "id": "kuz390pSPxcG"
   },
   "outputs": [],
   "source": [
    "# Helper function to run inference (on a single input this time)\n",
    "# Note: this also includes additional manual pre-processing\n",
    "TF_SESS = tf.compat.v1.InteractiveSession()\n",
    "def run_tflite_inference_singleFile(tflite_model_path, custom_audio, sr_custom_audio, model_type=\"Float\"):\n",
    "  #\n",
    "  # Preprocess the sample to get the features we pass to the model\n",
    "  #\n",
    "  # First re-sample to the needed rate (and convert to mono if needed)\n",
    "  custom_audio_resampled = librosa.resample(librosa.to_mono(np.float64(custom_audio)), sr_custom_audio, SAMPLE_RATE)\n",
    "  # Then extract the loudest one second\n",
    "  scipy.io.wavfile.write('custom_audio.wav', SAMPLE_RATE, np.int16(custom_audio_resampled))\n",
    "  !/tmp/extract_loudest_section/gen/bin/extract_loudest_section custom_audio.wav ./trimmed\n",
    "  # Finally pass it through the TFLiteMicro preprocessor to produce the \n",
    "  # spectrogram/MFCC input that the model expects\n",
    "  custom_model_settings = models.prepare_model_settings(\n",
    "      0, SAMPLE_RATE, CLIP_DURATION_MS, WINDOW_SIZE_MS,\n",
    "      WINDOW_STRIDE, FEATURE_BIN_COUNT, PREPROCESS)\n",
    "  custom_audio_processor = input_data.AudioProcessor(None, None, 0, 0, '', 0, 0,\n",
    "                                                    model_settings, None)\n",
    "  custom_audio_preprocessed = custom_audio_processor.get_features_for_wav(\n",
    "                                        'trimmed/custom_audio.wav', model_settings, TF_SESS)\n",
    "  # Reshape the output into a 1,1960 matrix as that is what the model expects\n",
    "  custom_audio_input = custom_audio_preprocessed[0].flatten()\n",
    "  test_data = np.reshape(custom_audio_input,(1,len(custom_audio_input)))\n",
    "\n",
    "  #\n",
    "  # Initialize the interpreter\n",
    "  #\n",
    "  interpreter = tf.lite.Interpreter(tflite_model_path)\n",
    "  interpreter.allocate_tensors()\n",
    "  input_details = interpreter.get_input_details()[0]\n",
    "  output_details = interpreter.get_output_details()[0]\n",
    "\n",
    "  #\n",
    "  # For quantized models, manually quantize the input data from float to integer\n",
    "  #\n",
    "  if model_type == \"Quantized\":\n",
    "    input_scale, input_zero_point = input_details[\"quantization\"]\n",
    "    test_data = test_data / input_scale + input_zero_point\n",
    "    test_data = test_data.astype(input_details[\"dtype\"])\n",
    "\n",
    "  #\n",
    "  # Run the interpreter\n",
    "  #\n",
    "  interpreter.set_tensor(input_details[\"index\"], test_data)\n",
    "  interpreter.invoke()\n",
    "  output = interpreter.get_tensor(output_details[\"index\"])[0]\n",
    "  top_prediction = output.argmax()\n",
    "\n",
    "  #\n",
    "  # Translate the output\n",
    "  #\n",
    "  top_prediction_str = ''\n",
    "  if top_prediction >= 2:\n",
    "    top_prediction_str = WANTED_WORDS.split(',')[top_prediction-2]\n",
    "  elif top_prediction == 0:\n",
    "    top_prediction_str = 'silence'\n",
    "  else:\n",
    "    top_prediction_str = 'unknown'\n",
    "\n",
    "  print('%s model guessed the value to be %s' % (model_type, top_prediction_str))"
   ]
  },
  {
   "cell_type": "markdown",
   "metadata": {
    "id": "41DVwrZBM8Jf"
   },
   "source": [
    "### Define the audio importing function\n",
    "Adapted from: https://ricardodeazambuja.com/deep_learning/2019/03/09/audio_and_video_google_colab/ and https://colab.research.google.com/drive/1Z6VIRZ_sX314hyev3Gm5gBqvm1wQVo-a#scrollTo=RtMcXr3o6gxN"
   ]
  },
  {
   "cell_type": "code",
   "execution_count": null,
   "metadata": {
    "colab": {
     "base_uri": "https://localhost:8080/"
    },
    "id": "Iy8gUzGtM5FK",
    "outputId": "89c03a0d-f781-4c62-be38-b9fb389175b0"
   },
   "outputs": [],
   "source": [
    "def get_audio():\n",
    "    \"\"\"Records audio from your local microphone inside a colab notebook\n",
    "    Returns\n",
    "    -------\n",
    "    tuple\n",
    "    audio (numpy.ndarray), sample rate (int)\n",
    "    Obs:\n",
    "    To write this piece of code I took inspiration/code from a lot of places.\n",
    "    It was late night, so I'm not sure how much I created or just copied o.O\n",
    "    Here are some of the possible references:\n",
    "    https://blog.addpipe.com/recording-audio-in-the-browser-using-pure-html5-and-minimal-javascript/\n",
    "    https://stackoverflow.com/a/18650249\n",
    "    https://hacks.mozilla.org/2014/06/easy-audio-capture-with-the-mediarecorder-api/\n",
    "    https://air.ghost.io/recording-to-an-audio-file-using-html5-and-js/\n",
    "    https://stackoverflow.com/a/49019356\n",
    "    \"\"\"\n",
    "\n",
    "    AUDIO_HTML = \"\"\"\n",
    "    <script>\n",
    "    var my_div = document.createElement(\"DIV\");\n",
    "    var my_p = document.createElement(\"P\");\n",
    "    var my_btn = document.createElement(\"BUTTON\");\n",
    "    var t = document.createTextNode(\"Press to start recording\");\n",
    "    my_btn.appendChild(t);\n",
    "    //my_p.appendChild(my_btn);\n",
    "    my_div.appendChild(my_btn);\n",
    "    document.body.appendChild(my_div);\n",
    "    var base64data = 0;\n",
    "    var reader;\n",
    "    var recorder, gumStream;\n",
    "    var recordButton = my_btn;\n",
    "    var handleSuccess = function(stream) {\n",
    "    gumStream = stream;\n",
    "    var options = {\n",
    "      //bitsPerSecond: 8000, //chrome seems to ignore, always 48k\n",
    "      mimeType : 'audio/webm;codecs=opus'\n",
    "      //mimeType : 'audio/webm;codecs=pcm'\n",
    "    };            \n",
    "    //recorder = new MediaRecorder(stream, options);\n",
    "    recorder = new MediaRecorder(stream);\n",
    "    recorder.ondataavailable = function(e) {            \n",
    "      var url = URL.createObjectURL(e.data);\n",
    "      var preview = document.createElement('audio');\n",
    "      preview.controls = true;\n",
    "      preview.src = url;\n",
    "      document.body.appendChild(preview);\n",
    "      reader = new FileReader();\n",
    "      reader.readAsDataURL(e.data); \n",
    "      reader.onloadend = function() {\n",
    "        base64data = reader.result;\n",
    "        //console.log(\"Inside FileReader:\" + base64data);\n",
    "      }\n",
    "    };\n",
    "    recorder.start();\n",
    "    };\n",
    "    recordButton.innerText = \"Recording... press to stop\";\n",
    "    navigator.mediaDevices.getUserMedia({audio: true}).then(handleSuccess);\n",
    "    function toggleRecording() {\n",
    "    if (recorder && recorder.state == \"recording\") {\n",
    "        recorder.stop();\n",
    "        gumStream.getAudioTracks()[0].stop();\n",
    "        recordButton.innerText = \"Saving the recording... pls wait!\"\n",
    "    }\n",
    "    }\n",
    "    // https://stackoverflow.com/a/951057\n",
    "    function sleep(ms) {\n",
    "    return new Promise(resolve => setTimeout(resolve, ms));\n",
    "    }\n",
    "    var data = new Promise(resolve=>{\n",
    "    //recordButton.addEventListener(\"click\", toggleRecording);\n",
    "    recordButton.onclick = ()=>{\n",
    "    toggleRecording()\n",
    "    sleep(2000).then(() => {\n",
    "    // wait 2000ms for the data to be available...\n",
    "    // ideally this should use something like await...\n",
    "    //console.log(\"Inside data:\" + base64data)\n",
    "    resolve(base64data.toString())\n",
    "    });\n",
    "    }\n",
    "    });\n",
    "\n",
    "    </script>\n",
    "    \"\"\"\n",
    "\n",
    "    display(HTML(AUDIO_HTML))\n",
    "    data = eval_js(\"data\")\n",
    "    binary = b64decode(data.split(',')[1])\n",
    "\n",
    "    process = (ffmpeg\n",
    "    .input('pipe:0')\n",
    "    .output('pipe:1', format='wav')\n",
    "    .run_async(pipe_stdin=True, pipe_stdout=True, pipe_stderr=True, quiet=True, overwrite_output=True)\n",
    "    )\n",
    "    output, err = process.communicate(input=binary)\n",
    "\n",
    "    riff_chunk_size = len(output) - 8\n",
    "    # Break up the chunk size into four bytes, held in b.\n",
    "    q = riff_chunk_size\n",
    "    b = []\n",
    "    for i in range(4):\n",
    "      q, r = divmod(q, 256)\n",
    "      b.append(r)\n",
    "\n",
    "    # Replace bytes 4:8 in proc.stdout with the actual size of the RIFF chunk.\n",
    "    riff = output[:4] + bytes(b) + output[8:]\n",
    "\n",
    "    sr, audio = wav_read(BytesIO(riff))\n",
    "\n",
    "    return audio, sr"
   ]
  },
  {
   "cell_type": "markdown",
   "metadata": {
    "id": "8aLBVlkeNC8B"
   },
   "source": [
    "### Record your own audio and test the model!\n",
    "After you run the record cell wait for the stop button to appear then start recording and then press the button to stop the recording once you have said the word!"
   ]
  },
  {
   "cell_type": "code",
   "execution_count": null,
   "metadata": {
    "colab": {
     "base_uri": "https://localhost:8080/",
     "height": 320
    },
    "id": "qYaZxXE0M_C9",
    "outputId": "60355229-d125-48fd-97c3-10b689934b11"
   },
   "outputs": [],
   "source": [
    "custom_audio, sr_custom_audio = get_audio()\n",
    "print(\"DONE\")"
   ]
  },
  {
   "cell_type": "code",
   "execution_count": null,
   "metadata": {
    "colab": {
     "base_uri": "https://localhost:8080/",
     "height": 197
    },
    "id": "PloZwcVhpZuY",
    "outputId": "a28d278c-ce16-420a-bc6a-5152ea1bbffb"
   },
   "outputs": [],
   "source": [
    "# Then test the model\n",
    "run_tflite_inference_singleFile(MODEL_TFLITE, custom_audio, sr_custom_audio, model_type=\"Quantized\")"
   ]
  },
  {
   "cell_type": "markdown",
   "metadata": {},
   "source": [
    "### Generate a TensorFlow Lite for Microcontrollers Model\n",
    "To convert the TensorFlow Lite quantized model into a C source file that can be loaded by TensorFlow Lite for Microcontrollers on Arduino we simply need to use the ```xxd``` tool to convert the ```.tflite``` file into a ```.cc``` file."
   ]
  },
  {
   "cell_type": "code",
   "execution_count": null,
   "metadata": {
    "colab": {
     "base_uri": "https://localhost:8080/"
    },
    "id": "lviPbts04FlV",
    "outputId": "57ba0949-6ac6-4e46-fea7-9c00a5dc12fe"
   },
   "outputs": [],
   "source": [
    "!apt-get update -qqq && apt-get -qqq install xxd"
   ]
  },
  {
   "cell_type": "code",
   "execution_count": null,
   "metadata": {
    "colab": {
     "base_uri": "https://localhost:8080/"
    },
    "id": "blUdK9vA4GIR",
    "outputId": "aac59c4e-4733-46a7-8580-06cf258a0d2c"
   },
   "outputs": [],
   "source": [
    "MODEL_TFLITE = './models/model.tflite'\n",
    "MODEL_TFLITE_MICRO = './models/model.cc'\n",
    "!xxd -i {MODEL_TFLITE} > {MODEL_TFLITE_MICRO}\n",
    "REPLACE_TEXT = MODEL_TFLITE.replace('/', '_').replace('.', '_')\n",
    "!sed -i 's/'{REPLACE_TEXT}'/g_model/g' {MODEL_TFLITE_MICRO}"
   ]
  },
  {
   "cell_type": "markdown",
   "metadata": {},
   "source": [
    "The generated Tensorflow Lite for Microcontroller model can now be used in the Arduino IDE. There are **two options** to do this:\n",
    "\n",
    "1. Copy the screen output directly from the Jupyter Notebook into the **micro_features_model.cpp** file (in the Arduino IDE)\n",
    "2. Download the **model.cc** file for later use to copy its content into the **micro_features_model.cpp** file (in the Arduino IDE)\n",
    "\n",
    "### Option 1: Copy Output directly"
   ]
  },
  {
   "cell_type": "code",
   "execution_count": null,
   "metadata": {},
   "outputs": [],
   "source": [
    "!cat {MODEL_TFLITE_MICRO}"
   ]
  },
  {
   "cell_type": "markdown",
   "metadata": {},
   "source": [
    "### Option 2: Download Model File"
   ]
  },
  {
   "cell_type": "code",
   "execution_count": null,
   "metadata": {},
   "outputs": [],
   "source": [
    "from IPython.display import FileLink\n",
    "local_file = FileLink('./models/model.cc', result_html_prefix="Click here to download: ")"
    "display(local_file)"
   ]
  },
  {
   "cell_type": "code",
   "execution_count": null,
   "metadata": {},
   "outputs": [],
   "source": []
  }
 ],
 "metadata": {
  "accelerator": "GPU",
  "colab": {
   "collapsed_sections": [],
   "name": "Copy of 3-5-18-TrainingKeywordSpotting.ipynb",
   "provenance": []
  },
  "kernelspec": {
   "display_name": "Python 3",
   "language": "python",
   "name": "python3"
  },
  "language_info": {
   "codemirror_mode": {
    "name": "ipython",
    "version": 3
   },
   "file_extension": ".py",
   "mimetype": "text/x-python",
   "name": "python",
   "nbconvert_exporter": "python",
   "pygments_lexer": "ipython3",
   "version": "3.6.9"
  }
 },
 "nbformat": 4,
 "nbformat_minor": 1
}
